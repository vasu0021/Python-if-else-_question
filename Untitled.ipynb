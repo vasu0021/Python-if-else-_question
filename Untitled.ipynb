{
 "cells": [
  {
   "cell_type": "code",
   "execution_count": 6,
   "id": "33eab7bc-0fec-4308-a09a-b3882f8b6d29",
   "metadata": {},
   "outputs": [
    {
     "name": "stdin",
     "output_type": "stream",
     "text": [
      "Enter the number of units consumed:  350\n"
     ]
    },
    {
     "name": "stdout",
     "output_type": "stream",
     "text": [
      "Total Electricity Bill = Rs 2000\n"
     ]
    }
   ],
   "source": [
    "units = int(input(\"Enter the number of units consumed: \"))\n",
    "\n",
    "bill = 0\n",
    "if units > 100:\n",
    "    units = units - 100\n",
    "else:\n",
    "    units = 0\n",
    "if units > 100:\n",
    "    bill = bill + 100 * 5\n",
    "    units = units - 100\n",
    "else:\n",
    "    bill = bill + units * 5\n",
    "    units = 0\n",
    "if units > 0:\n",
    "    bill = bill + units * 10\n",
    "\n",
    "print(\"Total Electricity Bill = Rs\", bill)\n"
   ]
  },
  {
   "cell_type": "markdown",
   "id": "75318098-4c57-4ca0-89b2-7a5c84647674",
   "metadata": {},
   "source": [
    "#2. Write a program to accept percentage from the user and display\n",
    "the grade according to the following criteria:\n",
    "\n",
    "Marks Grade\n",
    "> 90 A\n",
    "> 80 and <= 90 B\n",
    ">= 60 and <= 80 C\n",
    "below 60 D\n",
    "    \n",
    "    \n",
    "\n"
   ]
  },
  {
   "cell_type": "code",
   "execution_count": 11,
   "id": "88ebd171-5fdd-4a70-8305-40b6bedafdfb",
   "metadata": {},
   "outputs": [
    {
     "name": "stdin",
     "output_type": "stream",
     "text": [
      "enter the percent: 92\n"
     ]
    },
    {
     "name": "stdout",
     "output_type": "stream",
     "text": [
      "A\n"
     ]
    }
   ],
   "source": [
    "percentage=int(input(\"enter the percent:\"))\n",
    "if percentage > 90:\n",
    "    print(\"A\")\n",
    "elif percentage >80 and percentage<=90:\n",
    "    print(\"B\")\n",
    "elif percentage >=60 and percentage<=80:\n",
    "    print(\"c\")\n",
    "else:\n",
    "    print(\"D\")"
   ]
  },
  {
   "cell_type": "markdown",
   "id": "da881067-a4d2-43cf-8ed7-7edea7b51061",
   "metadata": {},
   "source": [
    "Q3. Accept the age of 4 people and display the youngest one?"
   ]
  },
  {
   "cell_type": "code",
   "execution_count": 15,
   "id": "07f9df4c-2be0-4ed3-bbd1-040e2d5dbacc",
   "metadata": {},
   "outputs": [
    {
     "name": "stdin",
     "output_type": "stream",
     "text": [
      "enter a age 3\n",
      "enter a age 4\n",
      "enter a age 5\n",
      "enter a age 6\n"
     ]
    },
    {
     "name": "stdout",
     "output_type": "stream",
     "text": [
      "The youngest age is: 3\n"
     ]
    }
   ],
   "source": [
    "age1= int(input(\"enter a age\"))\n",
    "age2= int(input(\"enter a age\"))\n",
    "age3= int(input(\"enter a age\"))\n",
    "age4= int(input(\"enter a age\"))\n",
    "\n",
    "youngest = age1\n",
    "\n",
    "if age2 < youngest:\n",
    "    youngest = age2\n",
    "if age3 < youngest:\n",
    "    youngest = age3\n",
    "if age4 < youngest:\n",
    "    youngest = age4\n",
    "print(\"The youngest age is:\", youngest)\n",
    "\n",
    "    "
   ]
  },
  {
   "cell_type": "markdown",
   "id": "27fa4d86-c3b5-450d-8ff5-b389999d4318",
   "metadata": {},
   "source": [
    "Q4. A company decided to give bonus to employee\n",
    "according to following criteria:\n",
    "\n",
    "Time period of Service Bonus\n",
    "\n",
    "More than 10 years 10%\n",
    "\n",
    ">=6 and <=10 8%\n",
    "\n",
    "Less than 6 years 5%\n",
    "\n",
    "Ask user for their salary and years of service and print the\n",
    "net bonus amount?"
   ]
  },
  {
   "cell_type": "code",
   "execution_count": 1,
   "id": "3466fcf2-ac79-436b-bca7-0e85c9243de9",
   "metadata": {},
   "outputs": [
    {
     "name": "stdin",
     "output_type": "stream",
     "text": [
      "enter amount: 5000\n",
      "enter year: 10\n"
     ]
    },
    {
     "name": "stdout",
     "output_type": "stream",
     "text": [
      "your bonus amount is: 400.0\n"
     ]
    }
   ],
   "source": [
    "salary=int(input(\"enter amount:\"))\n",
    "time_period=int(input(\"enter year:\"))\n",
    "\n",
    "if time_period>10:\n",
    "    bonus = 10\n",
    "elif time_period>=6 and time_period<=10:\n",
    "    bonus = 8\n",
    "else:\n",
    "    bonus = 5\n",
    "\n",
    "bonus= (bonus/100)*salary\n",
    "\n",
    "print(\"your bonus amount is:\",bonus)"
   ]
  },
  {
   "cell_type": "markdown",
   "id": "302067d7-68de-42b1-b88c-2bb90660aec6",
   "metadata": {},
   "source": [
    "Q5. Accept three numbers from the user and\n",
    "display the second largest number?"
   ]
  },
  {
   "cell_type": "code",
   "execution_count": 11,
   "id": "051da4d9-cab9-4b45-b9f8-e89da84c4397",
   "metadata": {},
   "outputs": [
    {
     "name": "stdin",
     "output_type": "stream",
     "text": [
      "enter num 1: 2\n",
      "enter num 2: 4\n",
      "enter num 3: 6\n"
     ]
    },
    {
     "name": "stdout",
     "output_type": "stream",
     "text": [
      "4\n"
     ]
    }
   ],
   "source": [
    "num1=int(input(\"enter num 1:\"))\n",
    "num2=int(input(\"enter num 2:\"))\n",
    "num3=int(input(\"enter num 3:\"))\n",
    "\n",
    "if(num1>num2 and num1 < num3) or (num1 < num2 and num1 > num3):\n",
    "    second_largest = num1\n",
    "elif(num2>num1 and num2 < num3) or (num2 < num1 and num2< num3):\n",
    "    second_largest = num2\n",
    "else:\n",
    "    second_largest = num3\n",
    "print(second_largest)"
   ]
  },
  {
   "cell_type": "markdown",
   "id": "21d2679c-58f2-40cc-a4dc-d9dc01f1bb2e",
   "metadata": {},
   "source": [
    "Q6. Accept the marked price from the user and calculate\n",
    "the Net amount as (Marked Price – Discount) to pay\n",
    "according to following criteria:\n",
    "\n",
    "Marked Price Discount\n",
    ">10000 20%\n",
    ">7000 and <=10000 15%\n",
    "<=7000 10%"
   ]
  },
  {
   "cell_type": "code",
   "execution_count": 2,
   "id": "4d5bea71-b449-4952-ab76-97569655b61b",
   "metadata": {},
   "outputs": [
    {
     "name": "stdin",
     "output_type": "stream",
     "text": [
      "enter a price: 40000\n"
     ]
    },
    {
     "name": "stdout",
     "output_type": "stream",
     "text": [
      "discount : 8000.0\n",
      "net_amount 3200000.0\n"
     ]
    }
   ],
   "source": [
    "market_price=int(input(\"enter a price:\"))\n",
    "\n",
    "if market_price>10000:\n",
    "    discount= 0.20*market_price\n",
    "elif market_price>=7000 and price <=10000:\n",
    "    discount = 0.15*market_price\n",
    "else:\n",
    "    discount= 0.10*market_price\n",
    "net_amount=(market_price-discount)*100\n",
    "\n",
    "print(\"discount :\",discount)\n",
    "print(\"net_amount\",net_amount)\n"
   ]
  },
  {
   "cell_type": "markdown",
   "id": "5f635bf6-d0de-442b-ad8c-c8fe470902ad",
   "metadata": {},
   "source": [
    "Q7. Accept the marks of English, Math and Science,\n",
    "Social Studies Subject and display the stream allotted\n",
    "according to following:\n",
    "\n",
    "All Subjects more than 80 marks — Science Stream\n",
    "\n",
    "English >80 and Math, Science above 50 — Commerce Stream\n",
    "\n",
    "English > 80 and social studies > 80 — Humanities"
   ]
  },
  {
   "cell_type": "code",
   "execution_count": 6,
   "id": "623743d2-bd28-4c2d-986c-9e10a38077de",
   "metadata": {},
   "outputs": [
    {
     "name": "stdin",
     "output_type": "stream",
     "text": [
      "enter english marks 60\n",
      "enter maths marks: 80\n",
      "enter sci marks: 40\n",
      "enter sst marks: 30\n"
     ]
    },
    {
     "name": "stdout",
     "output_type": "stream",
     "text": [
      "Humanities\n"
     ]
    }
   ],
   "source": [
    "English_marks=int(input(\"enter english marks\"))\n",
    "Math_marks= int(input(\"enter maths marks:\"))\n",
    "Science_marks=int(input(\"enter sci marks:\"))\n",
    "SocialStudies_marks=int(input(\"enter sst marks:\"))\n",
    "\n",
    "if (English_marks > 80 and Math_marks> 80 and Science_marks> 80 and SocialStudies_marks>80):\n",
    "    print(\"science\")\n",
    "elif(English_marks> 80 and Math_marks> 50 and Science_marks> 50 and SocialStudies_marks>50):\n",
    "    print(\"commerce strem\")\n",
    "else:\n",
    "    print(\"Humanities\")"
   ]
  },
  {
   "cell_type": "markdown",
   "id": "cb52b473-2524-478a-82c9-e2171b876352",
   "metadata": {},
   "source": [
    "Q8. Write a program to display \"Hello\" if a number entered\n",
    "by user is a multiple of five, otherwise print \"Bye\"?"
   ]
  },
  {
   "cell_type": "code",
   "execution_count": 7,
   "id": "b890e5e0-9d1f-4e47-977e-b75beac40c0e",
   "metadata": {},
   "outputs": [
    {
     "name": "stdin",
     "output_type": "stream",
     "text": [
      "Enter a number:  5\n"
     ]
    },
    {
     "name": "stdout",
     "output_type": "stream",
     "text": [
      "Hello\n"
     ]
    }
   ],
   "source": [
    "number = int(input(\"Enter a number: \"))\n",
    "\n",
    "if number % 5 == 0:\n",
    "    print(\"Hello\")\n",
    "else:\n",
    "    print(\"Bye\")\n"
   ]
  },
  {
   "cell_type": "markdown",
   "id": "796ee552-1ed9-40dc-ab40-37e17cfe5093",
   "metadata": {},
   "source": [
    "Q9. Write a program to check whether the last digit of a number\n",
    "(entered by user) is divisible by 3 or not?"
   ]
  },
  {
   "cell_type": "code",
   "execution_count": null,
   "id": "cae55baf-a705-402b-a153-5708dfe48018",
   "metadata": {},
   "outputs": [],
   "source": [
    "num=int(input(\"enter the number\"))\n",
    "last_digit = number % 10\n",
    "if last_digit %3 ==0:\n",
    "    print(\"yes\")\n",
    "else:\n",
    "    print()"
   ]
  }
 ],
 "metadata": {
  "kernelspec": {
   "display_name": "Python 3 (ipykernel)",
   "language": "python",
   "name": "python3"
  },
  "language_info": {
   "codemirror_mode": {
    "name": "ipython",
    "version": 3
   },
   "file_extension": ".py",
   "mimetype": "text/x-python",
   "name": "python",
   "nbconvert_exporter": "python",
   "pygments_lexer": "ipython3",
   "version": "3.13.5"
  }
 },
 "nbformat": 4,
 "nbformat_minor": 5
}
